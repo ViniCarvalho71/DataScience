{
 "cells": [
  {
   "cell_type": "markdown",
   "metadata": {},
   "source": [
    "# <font color='blue'>Data Science Academy</font>\n",
    "\n",
    "## <font color='blue'>Fundamentos de Linguagem Python Para Análise de Dados e Data Science</font>\n",
    "\n",
    "## <font color='blue'>Introdução à Programação Orientada a Objetos</font>"
   ]
  },
  {
   "cell_type": "code",
   "execution_count": 1,
   "metadata": {},
   "outputs": [
    {
     "name": "stdout",
     "output_type": "stream",
     "text": [
      "Versão da Linguagem Python Usada Neste Jupyter Notebook: 3.9.13\n"
     ]
    }
   ],
   "source": [
    "# Versão da Linguagem Python\n",
    "from platform import python_version\n",
    "print('Versão da Linguagem Python Usada Neste Jupyter Notebook:', python_version())"
   ]
  },
  {
   "cell_type": "markdown",
   "metadata": {},
   "source": [
    "## Exercícios"
   ]
  },
  {
   "cell_type": "code",
   "execution_count": 18,
   "metadata": {},
   "outputs": [
    {
     "name": "stdout",
     "output_type": "stream",
     "text": [
      "10 34\n",
      "22 78\n"
     ]
    }
   ],
   "source": [
    "# Exercício 1 - Crie um objeto a partir da classe abaixo, chamado roc1, \n",
    "# passando 2 parâmetros e depois faça uma chamada aos atributos e métodos\n",
    "from math import sqrt\n",
    "\n",
    "class Rocket():\n",
    "     \n",
    "    def __init__(self, x=0, y=0):\n",
    "        self.x = x\n",
    "        self.y = y\n",
    "        \n",
    "    def move_rocket(self, x_increment=0, y_increment=1):\n",
    "        self.x += x_increment\n",
    "        self.y += y_increment\n",
    "        \n",
    "    def print_rocket(self):\n",
    "        print(self.x, self.y) \n",
    "        \n",
    "roc1 = Rocket(10,34)\n",
    "roc1.x\n",
    "roc1.y\n",
    "roc1.print_rocket()\n",
    "roc1.move_rocket(12, 44)\n",
    "roc1.print_rocket()\n",
    "\n",
    "\n",
    "        "
   ]
  },
  {
   "cell_type": "code",
   "execution_count": 25,
   "metadata": {},
   "outputs": [
    {
     "name": "stdout",
     "output_type": "stream",
     "text": [
      "Vinícius carvalhovinicius71@gmail.com 14 996143348 Lins\n",
      "Vinícius is sleeping...\n"
     ]
    }
   ],
   "source": [
    "# Exercício 2 - Crie uma classe chamada Pessoa() com os atributos: nome, cidade, telefone e e-mail. Use pelo menos 2\n",
    "# métodos especiais na sua classe. Crie um objeto da sua classe e faça uma chamada a pelo menos um dos seus métodos\n",
    "# especiais.\n",
    "class Pessoa:\n",
    "    \n",
    "    def __init__(self):\n",
    "        self.nome = \"Vinícius\"\n",
    "        self.email = \"carvalhovinicius71@gmail.com\"\n",
    "        self.telefone = \"14 996143348\"\n",
    "        self.cidade = \"Lins\"\n",
    "        \n",
    "    def presentantion(self):\n",
    "        print(self.nome, self.email, self.telefone, self.cidade)\n",
    "        \n",
    "    def sleep(self):\n",
    "        print(f\"{self.nome} is sleeping...\")\n",
    "        \n",
    "vini = Pessoa()\n",
    "\n",
    "vini.presentantion()\n",
    "vini.sleep()"
   ]
  },
  {
   "cell_type": "code",
   "execution_count": 34,
   "metadata": {},
   "outputs": [
    {
     "name": "stdout",
     "output_type": "stream",
     "text": [
      "128\n",
      "touch\n",
      "200\n"
     ]
    }
   ],
   "source": [
    "# Exercício 3 - Crie a classe Smartphone com 2 atributos, tamanho e interface e crie a classe MP3Player com os \n",
    "# atributos capacidade. A classe MP3player deve herdar os atributos da classe Smartphone.\n",
    "\n",
    "class Smartphone:\n",
    "    \n",
    "    def __init__(self, width, interface):\n",
    "        self.width = width\n",
    "        self.interface  = interface\n",
    "        \n",
    "    def getWidth(self):\n",
    "        print(self.width)\n",
    "        \n",
    "    def getInterface(self):\n",
    "        print(self.interface)\n",
    "        \n",
    "class MP3Player(Smartphone):\n",
    "    \n",
    "    def __init__(self, capacity, width, interface):\n",
    "        self.capacity = capacity\n",
    "        Smartphone.__init__(self,width, interface)\n",
    "        \n",
    "    def getCapacity(self):\n",
    "        print(self.capacity)\n",
    "        \n",
    "        \n",
    "        \n",
    "\n",
    "teste = MP3Player(128, 200, \"touch\")\n",
    "\n",
    "teste.getCapacity()\n",
    "teste.getInterface()\n",
    "teste.getWidth()\n"
   ]
  },
  {
   "cell_type": "markdown",
   "metadata": {},
   "source": [
    "### FIM"
   ]
  },
  {
   "cell_type": "markdown",
   "metadata": {},
   "source": [
    "### Obrigado\n",
    "\n",
    "### Visite o Blog da Data Science Academy - <a href=\"http://blog.dsacademy.com.br\">Blog DSA</a>"
   ]
  }
 ],
 "metadata": {
  "kernelspec": {
   "display_name": "Python 3 (ipykernel)",
   "language": "python",
   "name": "python3"
  },
  "language_info": {
   "codemirror_mode": {
    "name": "ipython",
    "version": 3
   },
   "file_extension": ".py",
   "mimetype": "text/x-python",
   "name": "python",
   "nbconvert_exporter": "python",
   "pygments_lexer": "ipython3",
   "version": "3.10.9"
  }
 },
 "nbformat": 4,
 "nbformat_minor": 1
}
